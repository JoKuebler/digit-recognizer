{
 "cells": [
  {
   "cell_type": "code",
   "execution_count": 5,
   "metadata": {},
   "outputs": [],
   "source": [
    "import pandas as pd\n",
    "import numpy as np\n",
    "import seaborn as sns\n",
    "from sklearn.model_selection import train_test_split\n",
    "from sklearn.preprocessing import StandardScaler\n",
    "from sklearn.svm import SVC"
   ]
  },
  {
   "cell_type": "code",
   "execution_count": 6,
   "metadata": {},
   "outputs": [],
   "source": [
    "# Read in data\n",
    "train_set = pd.read_csv(\"../00_data/digit-recognizer/train.csv\", sep=',')"
   ]
  },
  {
   "cell_type": "code",
   "execution_count": 7,
   "metadata": {
    "scrolled": true
   },
   "outputs": [
    {
     "data": {
      "text/plain": [
       "<matplotlib.axes._subplots.AxesSubplot at 0x7f75993c52b0>"
      ]
     },
     "execution_count": 7,
     "metadata": {},
     "output_type": "execute_result"
    },
    {
     "data": {
      "image/png": "[encoded data removed]",
      "text/plain": [
       "<Figure size 432x288 with 1 Axes>"
      ]
     },
     "metadata": {
      "needs_background": "light"
     },
     "output_type": "display_data"
    }
   ],
   "source": [
    "# Show distributions of labels\n",
    "sns.countplot(train_set['label'])"
   ]
  },
  {
   "cell_type": "code",
   "execution_count": 11,
   "metadata": {},
   "outputs": [],
   "source": [
    "# iloc ensures X_tr will be a dataframe\n",
    "X_tr = train_set.iloc[:,1:].values\n",
    "y_tr = train_set.iloc[:, 0].values"
   ]
  },
  {
   "cell_type": "code",
   "execution_count": 13,
   "metadata": {},
   "outputs": [
    {
     "data": {
      "text/plain": [
       "array([False])"
      ]
     },
     "execution_count": 13,
     "metadata": {},
     "output_type": "execute_result"
    }
   ],
   "source": [
    "# check for zeros\n",
    "np.unique(np.isnan(X_tr))"
   ]
  },
  {
   "cell_type": "code",
   "execution_count": 16,
   "metadata": {},
   "outputs": [],
   "source": [
    "# Transform data so its distribution has mean value 0 and standard deviation 1\n",
    "scaler = StandardScaler()\n",
    "X_tr = scaler.fit_transform(X_tr)"
   ]
  },
  {
   "cell_type": "code",
   "execution_count": null,
   "metadata": {},
   "outputs": [
    {
     "name": "stdout",
     "output_type": "stream",
     "text": [
      "[LibSVM]"
     ]
    }
   ],
   "source": [
    "clf = SVC(gamma='0.1', verbose=1, kernel=\"poly\")\n",
    "clf.fit(X_tr, y_tr)"
   ]
  },
  {
   "cell_type": "code",
   "execution_count": null,
   "metadata": {},
   "outputs": [],
   "source": [
    "X_test.iloc[0]\n",
    "print(clf.predict(X_test)"
   ]
  },
  {
   "cell_type": "code",
   "execution_count": 26,
   "metadata": {},
   "outputs": [
    {
     "data": {
      "text/plain": [
       "2210     7\n",
       "17873    7\n",
       "36708    6\n",
       "12345    5\n",
       "39921    5\n",
       "10375    8\n",
       "12436    9\n",
       "40845    4\n",
       "36750    7\n",
       "27460    6\n",
       "2266     0\n",
       "27526    9\n",
       "41317    5\n",
       "4641     2\n",
       "29756    2\n",
       "22750    6\n",
       "21704    5\n",
       "4437     8\n",
       "40799    7\n",
       "20864    7\n",
       "12207    5\n",
       "8050     1\n",
       "22702    8\n",
       "28673    2\n",
       "21507    8\n",
       "37248    8\n",
       "41429    8\n",
       "785      2\n",
       "37359    9\n",
       "34994    2\n",
       "        ..\n",
       "13425    7\n",
       "8793     5\n",
       "24073    3\n",
       "27998    0\n",
       "37366    5\n",
       "39503    4\n",
       "36875    7\n",
       "7330     4\n",
       "36246    9\n",
       "27272    1\n",
       "38723    6\n",
       "3565     4\n",
       "26085    8\n",
       "4169     0\n",
       "14726    3\n",
       "15970    6\n",
       "2268     7\n",
       "2082     1\n",
       "29706    0\n",
       "28522    8\n",
       "218      5\n",
       "34399    5\n",
       "39480    4\n",
       "29042    1\n",
       "6707     1\n",
       "8579     9\n",
       "21504    5\n",
       "31498    9\n",
       "37851    4\n",
       "7733     4\n",
       "Name: label, Length: 33600, dtype: int64"
      ]
     },
     "execution_count": 26,
     "metadata": {},
     "output_type": "execute_result"
    }
   ],
   "source": []
  }
 ],
 "metadata": {
  "kernelspec": {
   "display_name": "Python 3",
   "language": "python",
   "name": "python3"
  },
  "language_info": {
   "codemirror_mode": {
    "name": "ipython",
    "version": 3
   },
   "file_extension": ".py",
   "mimetype": "text/x-python",
   "name": "python",
   "nbconvert_exporter": "python",
   "pygments_lexer": "ipython3",
   "version": "3.5.2"
  }
 },
 "nbformat": 4,
 "nbformat_minor": 2
}
